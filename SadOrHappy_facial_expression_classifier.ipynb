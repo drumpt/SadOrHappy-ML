{
 "cells": [
  {
   "cell_type": "markdown",
   "metadata": {
    "id": "jXEQk9Q5o9bv"
   },
   "source": [
    "## Import necessary libraries"
   ]
  },
  {
   "cell_type": "code",
   "execution_count": 41,
   "metadata": {
    "id": "8CAlAAkqoSwG"
   },
   "outputs": [],
   "source": [
    "import os\n",
    "\n",
    "import numpy as np\n",
    "from keras.preprocessing.image import ImageDataGenerator\n",
    "from keras.layers import Dense, Conv2D, MaxPooling2D, GlobalAveragePooling2D, \\\n",
    "                          Flatten, Activation, Dropout\n",
    "from keras.layers.normalization import BatchNormalization\n",
    "from keras.models import Model, Sequential\n",
    "from keras.applications.resnet50 import ResNet50\n",
    "from keras import regularizers\n",
    "from keras.optimizers import Adam\n",
    "from keras.callbacks import ModelCheckpoint\n",
    "import matplotlib.pyplot as plt"
   ]
  },
  {
   "cell_type": "markdown",
   "metadata": {
    "id": "lTDtxc6ZjbQ7"
   },
   "source": [
    "## Define hyperparameters"
   ]
  },
  {
   "cell_type": "code",
   "execution_count": 42,
   "metadata": {
    "id": "ChAyqhKfBhbt"
   },
   "outputs": [],
   "source": [
    "BATCH_SIZE = 32\n",
    "EPOCHS = 30\n",
    "IMG_HEIGHT = 48\n",
    "IMG_WIDTH = 48\n",
    "NUM_OUTPUTS = 5\n",
    "LEARNING_RATE = 1e-4\n",
    "DROPOUT_RATE = 0.3\n",
    "L2_WEIGHT_DECAY = 1e-6\n",
    "\n",
    "os.chdir(\"../SadOrHappy_ML_Madcamp_Week3\")"
   ]
  },
  {
   "cell_type": "markdown",
   "metadata": {
    "id": "UQDpg4DGpeL5"
   },
   "source": [
    "The dataset has following directory structure:\n",
    "\n",
    "<pre>\n",
    "<b>dataset</b>\n",
    "|__ <b>train</b>\n",
    "    |______ <b>angry</b>: [0.jpg, 1.jpg, 10.jpg, ...]\n",
    "    |______ <b>happy</b>: [100.jpg, 10000.jpg, 10001.jpg, ...]\n",
    "    |______ <b>neutral</b>: [1000.jpg, 10003.jpg, 10014.jpg, ...]\n",
    "    |______ <b>sad</b>: [10006.jpg, 10008.jpg, 1001.jpg, ...]\n",
    "    |______ <b>surprise</b>: [10007.jpg, 10009.jpg, 10011.jpg, ...]\n",
    "|__ <b>validation</b>\n",
    "    |______ <b>angry</b>: [10052.jpg, 10065.jpg, 10079.jpg, ....]\n",
    "    |______ <b>happy</b>: [10019.jpg, 10023.jpg, 10074.jpg, ...]\n",
    "    |______ <b>neutral</b>: [10033.jpg, 10048.jpg, 10068.jpg, ...]\n",
    "    |______ <b>sad</b>: [10004.jpg, 1003.jpg, 10031.jpg, ...]\n",
    "    |______ <b>surprise</b>: [10056.jpg, 10097.jpg, 10162.jpg, ...]\n",
    "</pre>"
   ]
  },
  {
   "cell_type": "code",
   "execution_count": 43,
   "metadata": {
    "id": "CsFaiWO8q0Fa"
   },
   "outputs": [
    {
     "name": "stdout",
     "output_type": "stream",
     "text": [
      "total # of training set : 107923\n",
      "total # of train_angry : 16620\n",
      "total # of train_happy : 28604\n",
      "total # of train_neutral : 34234\n",
      "total # of train_sad : 17145\n",
      "total # of train_surprise : 11320 \n",
      "\n",
      "total # of validation set : 30443\n",
      "total # of validation_angry : 2893\n",
      "total # of validation_happy : 12758\n",
      "total # of validation_neutral : 12860\n",
      "total # of validation_sad : 1138\n",
      "total # of validation_surprise : 794\n"
     ]
    }
   ],
   "source": [
    "train_dir = os.path.join(\"./dataset\", \"train\")\n",
    "validation_dir = os.path.join(\"./dataset\", \"validation\")\n",
    "\n",
    "train_angry_dir = os.path.join(train_dir, \"angry\")\n",
    "train_happy_dir = os.path.join(train_dir, \"happy\")\n",
    "train_neutral_dir = os.path.join(train_dir, \"neutral\")\n",
    "train_sad_dir = os.path.join(train_dir, \"sad\")\n",
    "train_surprise_dir = os.path.join(train_dir, \"surprise\")\n",
    "\n",
    "validation_angry_dir = os.path.join(validation_dir, \"angry\")\n",
    "validation_happy_dir = os.path.join(validation_dir, \"happy\")\n",
    "validation_neutral_dir = os.path.join(validation_dir, \"neutral\")\n",
    "validation_sad_dir = os.path.join(validation_dir, \"sad\")\n",
    "validation_surprise_dir = os.path.join(validation_dir, \"surprise\")\n",
    "\n",
    "num_angry_tr = len(os.listdir(train_angry_dir))\n",
    "num_happy_tr = len(os.listdir(train_happy_dir))\n",
    "num_neutral_tr = len(os.listdir(train_neutral_dir))\n",
    "num_sad_tr = len(os.listdir(train_sad_dir))\n",
    "num_surprise_tr = len(os.listdir(train_surprise_dir))\n",
    "\n",
    "num_angry_val = len(os.listdir(validation_angry_dir))\n",
    "num_happy_val = len(os.listdir(validation_happy_dir))\n",
    "num_neutral_val = len(os.listdir(validation_neutral_dir))\n",
    "num_sad_val = len(os.listdir(validation_sad_dir))\n",
    "num_surprise_val = len(os.listdir(validation_surprise_dir))\n",
    "\n",
    "total_train = num_angry_tr + num_happy_tr + num_neutral_tr + num_sad_tr + num_surprise_tr\n",
    "total_val = num_angry_val + num_happy_val + num_neutral_val + num_sad_val + num_surprise_val\n",
    "\n",
    "# debug\n",
    "print('total # of training set :', total_train)\n",
    "print('total # of train_angry :', num_angry_tr)\n",
    "print('total # of train_happy :', num_happy_tr)\n",
    "print('total # of train_neutral :', num_neutral_tr)\n",
    "print('total # of train_sad :', num_sad_tr)\n",
    "print('total # of train_surprise :', num_surprise_tr, \"\\n\")\n",
    "\n",
    "print('total # of validation set :', total_val)\n",
    "print('total # of validation_angry :', num_angry_val)\n",
    "print('total # of validation_happy :', num_happy_val)\n",
    "print('total # of validation_neutral :', num_neutral_val)\n",
    "print('total # of validation_sad :', num_sad_val)\n",
    "print('total # of validation_surprise :', num_surprise_val)"
   ]
  },
  {
   "cell_type": "markdown",
   "metadata": {
    "id": "9QEoWgeMEI2B"
   },
   "source": [
    "## Preprocess the dataset"
   ]
  },
  {
   "cell_type": "code",
   "execution_count": 44,
   "metadata": {
    "id": "Egovd3zgCkTo"
   },
   "outputs": [],
   "source": [
    "train_image_generator = ImageDataGenerator(rescale=1./255) # Generator for our training data\n",
    "validation_image_generator = ImageDataGenerator(rescale=1./255) # Generator for our validation data"
   ]
  },
  {
   "cell_type": "code",
   "execution_count": 45,
   "metadata": {
    "colab": {
     "base_uri": "https://localhost:8080/"
    },
    "id": "R-WBha-HCzJj",
    "outputId": "8a912b10-e1d9-4f60-d27e-ea8a48fff494"
   },
   "outputs": [
    {
     "name": "stdout",
     "output_type": "stream",
     "text": [
      "Found 107915 images belonging to 5 classes.\n",
      "Found 30443 images belonging to 5 classes.\n"
     ]
    }
   ],
   "source": [
    "train_data_gen = train_image_generator.flow_from_directory(\n",
    "    batch_size = BATCH_SIZE,\n",
    "    directory = train_dir,\n",
    "    color_mode = 'grayscale',\n",
    "    shuffle = True,\n",
    "    target_size = (IMG_HEIGHT, IMG_WIDTH),\n",
    "    class_mode = 'categorical'\n",
    ")\n",
    "val_data_gen = validation_image_generator.flow_from_directory(\n",
    "    batch_size = BATCH_SIZE,\n",
    "    directory = validation_dir,\n",
    "    color_mode = 'grayscale',\n",
    "    shuffle = False,\n",
    "    target_size = (IMG_HEIGHT, IMG_WIDTH),\n",
    "    class_mode = 'categorical'\n",
    "  )"
   ]
  },
  {
   "cell_type": "code",
   "execution_count": 46,
   "metadata": {
    "id": "dR7koc3fD9oF"
   },
   "outputs": [
    {
     "data": {
      "image/png": "[encoded data removed]",
      "text/plain": [
       "<Figure size 1440x1440 with 5 Axes>"
      ]
     },
     "metadata": {
      "needs_background": "light"
     },
     "output_type": "display_data"
    }
   ],
   "source": [
    "def plotImages(images_arr):\n",
    "    fig, axes = plt.subplots(1, 5, figsize=(20,20))\n",
    "    axes = axes.flatten()\n",
    "    for img, ax in zip( images_arr, axes):\n",
    "        ax.imshow(img)\n",
    "        ax.axis('off')\n",
    "    plt.tight_layout()\n",
    "    plt.show()\n",
    "\n",
    "sample_training_images, _ = next(train_data_gen)\n",
    "plotImages(sample_training_images[:5])"
   ]
  },
  {
   "cell_type": "markdown",
   "metadata": {
    "id": "wGmwc97lOQip"
   },
   "source": [
    "## Define model"
   ]
  },
  {
   "cell_type": "code",
   "execution_count": 47,
   "metadata": {
    "colab": {
     "base_uri": "https://localhost:8080/"
    },
    "id": "yWxEUMxQEY0K",
    "outputId": "ec883933-c0f4-40c1-dfc7-ee60cb17aa2b"
   },
   "outputs": [
    {
     "name": "stdout",
     "output_type": "stream",
     "text": [
      "Model: \"sequential_4\"\n",
      "_________________________________________________________________\n",
      "Layer (type)                 Output Shape              Param #   \n",
      "=================================================================\n",
      "conv2d_40 (Conv2D)           (None, 48, 48, 128)       3328      \n",
      "_________________________________________________________________\n",
      "conv2d_41 (Conv2D)           (None, 48, 48, 128)       409728    \n",
      "_________________________________________________________________\n",
      "batch_normalization_24 (Batc (None, 48, 48, 128)       512       \n",
      "_________________________________________________________________\n",
      "max_pooling2d_20 (MaxPooling (None, 24, 24, 128)       0         \n",
      "_________________________________________________________________\n",
      "dropout_24 (Dropout)         (None, 24, 24, 128)       0         \n",
      "_________________________________________________________________\n",
      "conv2d_42 (Conv2D)           (None, 24, 24, 128)       409728    \n",
      "_________________________________________________________________\n",
      "conv2d_43 (Conv2D)           (None, 24, 24, 128)       409728    \n",
      "_________________________________________________________________\n",
      "batch_normalization_25 (Batc (None, 24, 24, 128)       512       \n",
      "_________________________________________________________________\n",
      "max_pooling2d_21 (MaxPooling (None, 12, 12, 128)       0         \n",
      "_________________________________________________________________\n",
      "dropout_25 (Dropout)         (None, 12, 12, 128)       0         \n",
      "_________________________________________________________________\n",
      "conv2d_44 (Conv2D)           (None, 12, 12, 128)       409728    \n",
      "_________________________________________________________________\n",
      "conv2d_45 (Conv2D)           (None, 12, 12, 128)       409728    \n",
      "_________________________________________________________________\n",
      "batch_normalization_26 (Batc (None, 12, 12, 128)       512       \n",
      "_________________________________________________________________\n",
      "max_pooling2d_22 (MaxPooling (None, 6, 6, 128)         0         \n",
      "_________________________________________________________________\n",
      "dropout_26 (Dropout)         (None, 6, 6, 128)         0         \n",
      "_________________________________________________________________\n",
      "conv2d_46 (Conv2D)           (None, 6, 6, 128)         409728    \n",
      "_________________________________________________________________\n",
      "conv2d_47 (Conv2D)           (None, 6, 6, 128)         409728    \n",
      "_________________________________________________________________\n",
      "batch_normalization_27 (Batc (None, 6, 6, 128)         512       \n",
      "_________________________________________________________________\n",
      "max_pooling2d_23 (MaxPooling (None, 3, 3, 128)         0         \n",
      "_________________________________________________________________\n",
      "dropout_27 (Dropout)         (None, 3, 3, 128)         0         \n",
      "_________________________________________________________________\n",
      "conv2d_48 (Conv2D)           (None, 3, 3, 128)         147584    \n",
      "_________________________________________________________________\n",
      "conv2d_49 (Conv2D)           (None, 3, 3, 128)         147584    \n",
      "_________________________________________________________________\n",
      "batch_normalization_28 (Batc (None, 3, 3, 128)         512       \n",
      "_________________________________________________________________\n",
      "max_pooling2d_24 (MaxPooling (None, 1, 1, 128)         0         \n",
      "_________________________________________________________________\n",
      "dropout_28 (Dropout)         (None, 1, 1, 128)         0         \n",
      "_________________________________________________________________\n",
      "flatten_4 (Flatten)          (None, 128)               0         \n",
      "_________________________________________________________________\n",
      "dense_8 (Dense)              (None, 1024)              132096    \n",
      "_________________________________________________________________\n",
      "batch_normalization_29 (Batc (None, 1024)              4096      \n",
      "_________________________________________________________________\n",
      "activation_8 (Activation)    (None, 1024)              0         \n",
      "_________________________________________________________________\n",
      "dropout_29 (Dropout)         (None, 1024)              0         \n",
      "_________________________________________________________________\n",
      "dense_9 (Dense)              (None, 5)                 5125      \n",
      "_________________________________________________________________\n",
      "activation_9 (Activation)    (None, 5)                 0         \n",
      "=================================================================\n",
      "Total params: 3,310,469\n",
      "Trainable params: 3,307,141\n",
      "Non-trainable params: 3,328\n",
      "_________________________________________________________________\n"
     ]
    }
   ],
   "source": [
    "def simple_cnn():\n",
    "  model = Sequential()\n",
    "  input_shape = (IMG_HEIGHT, IMG_WIDTH, 1)\n",
    "  model.add(Conv2D(128, (5, 5), input_shape=input_shape, activation='relu', padding='same', kernel_regularizer = regularizers.l2(L2_WEIGHT_DECAY)))\n",
    "  model.add(BatchNormalization())\n",
    "  model.add(MaxPooling2D(pool_size=(2, 2)))\n",
    "  model.add(Dropout(DROPOUT_RATE))\n",
    "\n",
    "  model.add(Conv2D(128, (5, 5),activation='relu',padding='same', kernel_regularizer = regularizers.l2(L2_WEIGHT_DECAY)))\n",
    "  model.add(BatchNormalization())\n",
    "  model.add(MaxPooling2D(pool_size=(2, 2)))\n",
    "  model.add(Dropout(DROPOUT_RATE))\n",
    "\n",
    "  model.add(Conv2D(128, (5, 5),activation='relu',padding='same', kernel_regularizer = regularizers.l2(L2_WEIGHT_DECAY)))\n",
    "  model.add(BatchNormalization())\n",
    "  model.add(MaxPooling2D(pool_size=(2, 2)))\n",
    "  model.add(Dropout(DROPOUT_RATE))\n",
    "\n",
    "  model.add(Conv2D(128, (5, 5),activation='relu',padding='same', kernel_regularizer = regularizers.l2(L2_WEIGHT_DECAY)))\n",
    "  model.add(BatchNormalization())\n",
    "  model.add(MaxPooling2D(pool_size=(2, 2)))\n",
    "  model.add(Dropout(DROPOUT_RATE))\n",
    "\n",
    "  model.add(Conv2D(128, (5, 5),activation='relu',padding='same', kernel_regularizer = regularizers.l2(L2_WEIGHT_DECAY)))\n",
    "  model.add(BatchNormalization())\n",
    "  model.add(MaxPooling2D(pool_size=(2, 2)))\n",
    "  model.add(Dropout(DROPOUT_RATE))    \n",
    "    \n",
    "  model.add(Conv2D(128, (3, 3),activation='relu',padding='same', kernel_regularizer = regularizers.l2(L2_WEIGHT_DECAY)))\n",
    "  model.add(BatchNormalization())\n",
    "  model.add(MaxPooling2D(pool_size=(2, 2)))\n",
    "  model.add(Dropout(DROPOUT_RATE))\n",
    "\n",
    "  model.add(Flatten())\n",
    "  model.add(Dense(1024))\n",
    "  model.add(BatchNormalization())\n",
    "  model.add(Activation('relu'))\n",
    "  model.add(Dropout(DROPOUT_RATE))\n",
    "  model.add(Dense(NUM_OUTPUTS, activation=\"softmax\"))\n",
    "  model.add(Activation('softmax'))\n",
    "  return model\n",
    "\n",
    "def resnet_fine_tuning():\n",
    "  base_model = ResNet50(weights='imagenet', include_top=False, input_shape = (IMG_HEIGHT, IMG_WIDTH, 3))\n",
    "  x = base_model.output\n",
    "  x = GlobalAveragePooling2D()(x)\n",
    "  x = Flatten()(x)\n",
    "  x = Dense(1024, activation='relu')(x)\n",
    "  x = Dense(NUM_OUTPUTS, activation='softmax')(x)\n",
    "  model = Model(inputs=base_model.input, outputs=x)\n",
    "  return model\n",
    "\n",
    "model = simple_cnn()\n",
    "# model = resnet_fine_tuning()\n",
    "\n",
    "optimizer = Adam(lr = LEARNING_RATE, beta_1 = 0.9, beta_2 = 0.999, epsilon = 1e-7)\n",
    "model.compile(loss='categorical_crossentropy', metrics=['accuracy'], optimizer = optimizer)\n",
    "model.summary()"
   ]
  },
  {
   "cell_type": "markdown",
   "metadata": {
    "id": "wGmwc97lOQip"
   },
   "source": [
    "## Train model"
   ]
  },
  {
   "cell_type": "code",
   "execution_count": null,
   "metadata": {
    "colab": {
     "base_uri": "https://localhost:8080/"
    },
    "id": "TnDrZaNYI0-f",
    "outputId": "e949fa2a-ec53-4fe3-a0ca-cacedbd85e20"
   },
   "outputs": [
    {
     "name": "stdout",
     "output_type": "stream",
     "text": [
      "Epoch 1/100\n",
      "3372/3372 [==============================] - 70s 21ms/step - loss: 1.4545 - accuracy: 0.4339 - val_loss: 1.3817 - val_accuracy: 0.5140\n",
      "Epoch 2/100\n",
      "3372/3372 [==============================] - 69s 21ms/step - loss: 1.3316 - accuracy: 0.5654 - val_loss: 1.3489 - val_accuracy: 0.5472\n",
      "Epoch 3/100\n",
      " 360/3372 [==>...........................] - ETA: 50s - loss: 1.3041 - accuracy: 0.5962"
     ]
    }
   ],
   "source": [
    "# from google.colab import drive\n",
    "# drive.mount(\"/content/gdrive\", force_remount = False)\n",
    "\n",
    "# def get_drive_path():\n",
    "#   path = F\"/content/gdrive/MyDrive/Colab Notebooks/weights/\"\n",
    "#   path += \"weights_{epoch:02d}_{accuracy:.4f}_{val_accuracy:.4f}.h5\"\n",
    "#   return path\n",
    "\n",
    "def get_local_path():\n",
    "  path = os.path.join(\"weights/\", \"weights_{epoch:02d}_{accuracy:.4f}_{val_accuracy:.4f}.h5\")\n",
    "  return path\n",
    "\n",
    "# path = get_drive_path()\n",
    "path = get_local_path()\n",
    "save_model_callback = ModelCheckpoint(filepath = path)\n",
    "\n",
    "history = model.fit(\n",
    "    train_data_gen,\n",
    "    steps_per_epoch = total_train // BATCH_SIZE,\n",
    "    epochs = EPOCHS,\n",
    "    validation_data = val_data_gen,\n",
    "    validation_steps = total_val // BATCH_SIZE,\n",
    "    callbacks = [save_model_callback]\n",
    ")"
   ]
  },
  {
   "cell_type": "markdown",
   "metadata": {
    "id": "9ubmRJLrk_45"
   },
   "source": [
    "## Plot training result"
   ]
  },
  {
   "cell_type": "code",
   "execution_count": null,
   "metadata": {
    "id": "M1aOJQnqJG_6"
   },
   "outputs": [],
   "source": [
    "acc = history.history['accuracy']\n",
    "val_acc = history.history['val_accuracy']\n",
    "\n",
    "loss = history.history['loss']\n",
    "val_loss = history.history['val_loss']\n",
    "\n",
    "epochs_range = range(EPOCHS)\n",
    "\n",
    "plt.figure(figsize=(8, 8))\n",
    "plt.subplot(1, 2, 1)\n",
    "plt.plot(epochs_range, acc, label='Training Accuracy')\n",
    "plt.plot(epochs_range, val_acc, label='Validation Accuracy')\n",
    "plt.legend(loc='lower right')\n",
    "plt.title('Training and Validation Accuracy')\n",
    "\n",
    "plt.subplot(1, 2, 2)\n",
    "plt.plot(epochs_range, loss, label='Training Loss')\n",
    "plt.plot(epochs_range, val_loss, label='Validation Loss')\n",
    "plt.legend(loc='upper right')\n",
    "plt.title('Training and Validation Loss')\n",
    "plt.show()"
   ]
  }
 ],
 "metadata": {
  "colab": {
   "machine_shape": "hm",
   "name": "SadOrHappy : facial expression classifeir",
   "provenance": []
  },
  "kernelspec": {
   "display_name": "Python 3",
   "language": "python",
   "name": "python3"
  },
  "language_info": {
   "codemirror_mode": {
    "name": "ipython",
    "version": 3
   },
   "file_extension": ".py",
   "mimetype": "text/x-python",
   "name": "python",
   "nbconvert_exporter": "python",
   "pygments_lexer": "ipython3",
   "version": "3.8.5"
  }
 },
 "nbformat": 4,
 "nbformat_minor": 1
}
