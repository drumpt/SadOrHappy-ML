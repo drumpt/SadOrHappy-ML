{
 "cells": [
  {
   "cell_type": "markdown",
   "metadata": {
    "id": "jXEQk9Q5o9bv"
   },
   "source": [
    "## Import necessary libraries"
   ]
  },
  {
   "cell_type": "code",
   "execution_count": 11,
   "metadata": {
    "id": "8CAlAAkqoSwG"
   },
   "outputs": [],
   "source": [
    "import os\n",
    "\n",
    "import numpy as np\n",
    "from keras.preprocessing.image import ImageDataGenerator\n",
    "from keras.layers import Dense, Conv2D, MaxPooling2D, GlobalAveragePooling2D, \\\n",
    "                          Flatten, Activation, Dropout\n",
    "from keras.layers.normalization import BatchNormalization\n",
    "from keras.models import Model, Sequential\n",
    "from keras.applications.resnet50 import ResNet50\n",
    "from keras import regularizers\n",
    "from keras.optimizers import Adam\n",
    "from keras.callbacks import ModelCheckpoint\n",
    "import matplotlib.pyplot as plt"
   ]
  },
  {
   "cell_type": "markdown",
   "metadata": {
    "id": "lTDtxc6ZjbQ7"
   },
   "source": [
    "## Define hyperparameters"
   ]
  },
  {
   "cell_type": "code",
   "execution_count": 12,
   "metadata": {
    "id": "ChAyqhKfBhbt"
   },
   "outputs": [],
   "source": [
    "BATCH_SIZE = 32\n",
    "EPOCHS = 100\n",
    "IMG_HEIGHT = 48\n",
    "IMG_WIDTH = 48\n",
    "NUM_OUTPUTS = 5\n",
    "LEARNING_RATE = 1e-4\n",
    "DROPOUT_RATE = 0.3\n",
    "L2_WEIGHT_DECAY = 1e-6"
   ]
  },
  {
   "cell_type": "markdown",
   "metadata": {
    "id": "7RWm_by5oWiw"
   },
   "source": [
    "## Load the dataset"
   ]
  },
  {
   "cell_type": "code",
   "execution_count": 13,
   "metadata": {
    "colab": {
     "base_uri": "https://localhost:8080/"
    },
    "id": "iKMrXwKboc-w",
    "outputId": "291e5fc9-d805-48ff-9ef9-148b86d3d937"
   },
   "outputs": [
    {
     "name": "stdout",
     "output_type": "stream",
     "text": [
      "Cloning into 'facial_expression_data'...\n",
      "remote: Enumerating objects: 103, done.\u001b[K\n",
      "remote: Counting objects: 100% (103/103), done.\u001b[K\n",
      "remote: Compressing objects: 100% (83/83), done.\u001b[K\n",
      "remote: Total 28886 (delta 29), reused 86 (delta 20), pack-reused 28783\u001b[K\n",
      "Receiving objects: 100% (28886/28886), 44.97 MiB | 11.46 MiB/s, done.\n",
      "Resolving deltas: 100% (31/31), done.\n"
     ]
    }
   ],
   "source": [
    "! rm -rf ./dataset\n",
    "! git clone https://github.com/drumpt/facial_expression_data"
   ]
  },
  {
   "cell_type": "markdown",
   "metadata": {
    "id": "UQDpg4DGpeL5"
   },
   "source": [
    "The dataset has the following directory structure:\n",
    "\n",
    "<pre>\n",
    "<b>dataset</b>\n",
    "|__ <b>train</b>\n",
    "    |______ <b>angry</b>: [0.jpg, 1.jpg, 10.jpg, ...]\n",
    "    |______ <b>happy</b>: [100.jpg, 10000.jpg, 10001.jpg, ...]\n",
    "    |______ <b>neutral</b>: [1000.jpg, 10003.jpg, 10014.jpg, ...]\n",
    "    |______ <b>sad</b>: [10006.jpg, 10008.jpg, 1001.jpg, ...]\n",
    "    |______ <b>surprise</b>: [10007.jpg, 10009.jpg, 10011.jpg, ...]\n",
    "|__ <b>validation</b>\n",
    "    |______ <b>angry</b>: [10052.jpg, 10065.jpg, 10079.jpg, ....]\n",
    "    |______ <b>happy</b>: [10019.jpg, 10023.jpg, 10074.jpg, ...]\n",
    "    |______ <b>neutral</b>: [10033.jpg, 10048.jpg, 10068.jpg, ...]\n",
    "    |______ <b>sad</b>: [10004.jpg, 1003.jpg, 10031.jpg, ...]\n",
    "    |______ <b>surprise</b>: [10056.jpg, 10097.jpg, 10162.jpg, ...]\n",
    "</pre>"
   ]
  },
  {
   "cell_type": "code",
   "execution_count": 14,
   "metadata": {
    "id": "CsFaiWO8q0Fa"
   },
   "outputs": [
    {
     "name": "stdout",
     "output_type": "stream",
     "text": [
      "total # of training set : 23622\n",
      "total # of train_angry : 3487\n",
      "total # of train_happy : 7156\n",
      "total # of train_neutral : 4850\n",
      "total # of train_sad : 4922\n",
      "total # of train_surprise : 3207 \n",
      "\n",
      "total # of validation set : 5754\n",
      "total # of validation_angry : 835\n",
      "total # of validation_happy : 1824\n",
      "total # of validation_neutral : 1163\n",
      "total # of validation_sad : 1138\n",
      "total # of validation_surprise : 794\n"
     ]
    }
   ],
   "source": [
    "train_dir = os.path.join(\"./dataset/train\", \"train\")\n",
    "validation_dir = os.path.join(\"./dataset/validation\", \"validation\")\n",
    "\n",
    "train_angry_dir = os.path.join(train_dir, \"angry\")\n",
    "train_happy_dir = os.path.join(train_dir, \"happy\")\n",
    "train_neutral_dir = os.path.join(train_dir, \"neutral\")\n",
    "train_sad_dir = os.path.join(train_dir, \"sad\")\n",
    "train_surprise_dir = os.path.join(train_dir, \"surprise\")\n",
    "\n",
    "validation_angry_dir = os.path.join(validation_dir, \"angry\")\n",
    "validation_happy_dir = os.path.join(validation_dir, \"happy\")\n",
    "validation_neutral_dir = os.path.join(validation_dir, \"neutral\")\n",
    "validation_sad_dir = os.path.join(validation_dir, \"sad\")\n",
    "validation_surprise_dir = os.path.join(validation_dir, \"surprise\")\n",
    "\n",
    "num_angry_tr = len(os.listdir(train_angry_dir))\n",
    "num_happy_tr = len(os.listdir(train_happy_dir))\n",
    "num_neutral_tr = len(os.listdir(train_neutral_dir))\n",
    "num_sad_tr = len(os.listdir(train_sad_dir))\n",
    "num_surprise_tr = len(os.listdir(train_surprise_dir))\n",
    "\n",
    "num_angry_val = len(os.listdir(validation_angry_dir))\n",
    "num_happy_val = len(os.listdir(validation_happy_dir))\n",
    "num_neutral_val = len(os.listdir(validation_neutral_dir))\n",
    "num_sad_val = len(os.listdir(validation_sad_dir))\n",
    "num_surprise_val = len(os.listdir(validation_surprise_dir))\n",
    "\n",
    "total_train = num_angry_tr + num_happy_tr + num_neutral_tr + num_sad_tr + num_surprise_tr\n",
    "total_val = num_angry_val + num_happy_val + num_neutral_val + num_sad_val + num_surprise_val\n",
    "\n",
    "# debug\n",
    "print('total # of training set :', total_train)\n",
    "print('total # of train_angry :', num_angry_tr)\n",
    "print('total # of train_happy :', num_happy_tr)\n",
    "print('total # of train_neutral :', num_neutral_tr)\n",
    "print('total # of train_sad :', num_sad_tr)\n",
    "print('total # of train_surprise :', num_surprise_tr, \"\\n\")\n",
    "\n",
    "print('total # of validation set :', total_val)\n",
    "print('total # of validation_angry :', num_angry_val)\n",
    "print('total # of validation_happy :', num_happy_val)\n",
    "print('total # of validation_neutral :', num_neutral_val)\n",
    "print('total # of validation_sad :', num_sad_val)\n",
    "print('total # of validation_surprise :', num_surprise_val)"
   ]
  },
  {
   "cell_type": "markdown",
   "metadata": {
    "id": "9QEoWgeMEI2B"
   },
   "source": [
    "## Preprocess the dataset"
   ]
  },
  {
   "cell_type": "code",
   "execution_count": 15,
   "metadata": {
    "id": "Egovd3zgCkTo"
   },
   "outputs": [],
   "source": [
    "train_image_generator = ImageDataGenerator(rescale=1./255) # Generator for our training data\n",
    "validation_image_generator = ImageDataGenerator(rescale=1./255) # Generator for our validation data"
   ]
  },
  {
   "cell_type": "code",
   "execution_count": 16,
   "metadata": {
    "colab": {
     "base_uri": "https://localhost:8080/"
    },
    "id": "R-WBha-HCzJj",
    "outputId": "8a912b10-e1d9-4f60-d27e-ea8a48fff494"
   },
   "outputs": [
    {
     "name": "stdout",
     "output_type": "stream",
     "text": [
      "Found 23616 images belonging to 5 classes.\n",
      "Found 5754 images belonging to 5 classes.\n"
     ]
    }
   ],
   "source": [
    "train_data_gen = train_image_generator.flow_from_directory(\n",
    "    batch_size = BATCH_SIZE,\n",
    "    directory = train_dir,\n",
    "    color_mode = 'grayscale',\n",
    "    shuffle = True,\n",
    "    target_size = (IMG_HEIGHT, IMG_WIDTH),\n",
    "    class_mode = 'categorical'\n",
    ")\n",
    "val_data_gen = validation_image_generator.flow_from_directory(\n",
    "    batch_size = BATCH_SIZE,\n",
    "    directory = validation_dir,\n",
    "    color_mode = 'grayscale',\n",
    "    shuffle = False,\n",
    "    target_size = (IMG_HEIGHT, IMG_WIDTH),\n",
    "    class_mode = 'categorical'\n",
    "  )"
   ]
  },
  {
   "cell_type": "code",
   "execution_count": 17,
   "metadata": {
    "id": "dR7koc3fD9oF"
   },
   "outputs": [
    {
     "data": {
      "image/png": "[encoded data removed]",
      "text/plain": [
       "<Figure size 1440x1440 with 5 Axes>"
      ]
     },
     "metadata": {
      "needs_background": "light"
     },
     "output_type": "display_data"
    }
   ],
   "source": [
    "def plotImages(images_arr):\n",
    "    fig, axes = plt.subplots(1, 5, figsize=(20,20))\n",
    "    axes = axes.flatten()\n",
    "    for img, ax in zip( images_arr, axes):\n",
    "        ax.imshow(img)\n",
    "        ax.axis('off')\n",
    "    plt.tight_layout()\n",
    "    plt.show()\n",
    "\n",
    "sample_training_images, _ = next(train_data_gen)\n",
    "plotImages(sample_training_images[:5])"
   ]
  },
  {
   "cell_type": "markdown",
   "metadata": {
    "id": "wGmwc97lOQip"
   },
   "source": [
    "## Define model"
   ]
  },
  {
   "cell_type": "code",
   "execution_count": 18,
   "metadata": {
    "colab": {
     "base_uri": "https://localhost:8080/"
    },
    "id": "yWxEUMxQEY0K",
    "outputId": "ec883933-c0f4-40c1-dfc7-ee60cb17aa2b"
   },
   "outputs": [
    {
     "name": "stdout",
     "output_type": "stream",
     "text": [
      "Model: \"sequential_1\"\n",
      "_________________________________________________________________\n",
      "Layer (type)                 Output Shape              Param #   \n",
      "=================================================================\n",
      "conv2d_5 (Conv2D)            (None, 48, 48, 128)       9728      \n",
      "_________________________________________________________________\n",
      "conv2d_6 (Conv2D)            (None, 48, 48, 128)       409728    \n",
      "_________________________________________________________________\n",
      "batch_normalization_6 (Batch (None, 48, 48, 128)       512       \n",
      "_________________________________________________________________\n",
      "max_pooling2d_5 (MaxPooling2 (None, 24, 24, 128)       0         \n",
      "_________________________________________________________________\n",
      "dropout_6 (Dropout)          (None, 24, 24, 128)       0         \n",
      "_________________________________________________________________\n",
      "conv2d_7 (Conv2D)            (None, 24, 24, 128)       409728    \n",
      "_________________________________________________________________\n",
      "conv2d_8 (Conv2D)            (None, 24, 24, 128)       409728    \n",
      "_________________________________________________________________\n",
      "batch_normalization_7 (Batch (None, 24, 24, 128)       512       \n",
      "_________________________________________________________________\n",
      "max_pooling2d_6 (MaxPooling2 (None, 12, 12, 128)       0         \n",
      "_________________________________________________________________\n",
      "dropout_7 (Dropout)          (None, 12, 12, 128)       0         \n",
      "_________________________________________________________________\n",
      "conv2d_9 (Conv2D)            (None, 12, 12, 128)       409728    \n",
      "_________________________________________________________________\n",
      "conv2d_10 (Conv2D)           (None, 12, 12, 128)       409728    \n",
      "_________________________________________________________________\n",
      "batch_normalization_8 (Batch (None, 12, 12, 128)       512       \n",
      "_________________________________________________________________\n",
      "max_pooling2d_7 (MaxPooling2 (None, 6, 6, 128)         0         \n",
      "_________________________________________________________________\n",
      "dropout_8 (Dropout)          (None, 6, 6, 128)         0         \n",
      "_________________________________________________________________\n",
      "conv2d_11 (Conv2D)           (None, 6, 6, 128)         409728    \n",
      "_________________________________________________________________\n",
      "conv2d_12 (Conv2D)           (None, 6, 6, 128)         409728    \n",
      "_________________________________________________________________\n",
      "batch_normalization_9 (Batch (None, 6, 6, 128)         512       \n",
      "_________________________________________________________________\n",
      "max_pooling2d_8 (MaxPooling2 (None, 3, 3, 128)         0         \n",
      "_________________________________________________________________\n",
      "dropout_9 (Dropout)          (None, 3, 3, 128)         0         \n",
      "_________________________________________________________________\n",
      "conv2d_13 (Conv2D)           (None, 3, 3, 128)         147584    \n",
      "_________________________________________________________________\n",
      "conv2d_14 (Conv2D)           (None, 3, 3, 128)         147584    \n",
      "_________________________________________________________________\n",
      "batch_normalization_10 (Batc (None, 3, 3, 128)         512       \n",
      "_________________________________________________________________\n",
      "max_pooling2d_9 (MaxPooling2 (None, 1, 1, 128)         0         \n",
      "_________________________________________________________________\n",
      "dropout_10 (Dropout)         (None, 1, 1, 128)         0         \n",
      "_________________________________________________________________\n",
      "flatten_1 (Flatten)          (None, 128)               0         \n",
      "_________________________________________________________________\n",
      "dense_2 (Dense)              (None, 1024)              132096    \n",
      "_________________________________________________________________\n",
      "batch_normalization_11 (Batc (None, 1024)              4096      \n",
      "_________________________________________________________________\n",
      "activation_2 (Activation)    (None, 1024)              0         \n",
      "_________________________________________________________________\n",
      "dropout_11 (Dropout)         (None, 1024)              0         \n",
      "_________________________________________________________________\n",
      "dense_3 (Dense)              (None, 5)                 5125      \n",
      "_________________________________________________________________\n",
      "activation_3 (Activation)    (None, 5)                 0         \n",
      "=================================================================\n",
      "Total params: 3,316,869\n",
      "Trainable params: 3,313,541\n",
      "Non-trainable params: 3,328\n",
      "_________________________________________________________________\n"
     ]
    }
   ],
   "source": [
    "def simple_cnn():\n",
    "  model = Sequential()\n",
    "  input_shape = (IMG_HEIGHT, IMG_WIDTH, 1)\n",
    "  model.add(Conv2D(128, (5, 5), input_shape=input_shape, activation='relu', padding='same', kernel_regularizer = regularizers.l2(L2_WEIGHT_DECAY)))\n",
    "  model.add(Conv2D(128, (5, 5), activation='relu', padding='same', kernel_regularizer = regularizers.l2(L2_WEIGHT_DECAY)))\n",
    "  model.add(BatchNormalization())\n",
    "  model.add(MaxPooling2D(pool_size=(2, 2)))\n",
    "  model.add(Dropout(DROPOUT_RATE))\n",
    "\n",
    "  model.add(Conv2D(128, (5, 5),activation='relu',padding='same', kernel_regularizer = regularizers.l2(L2_WEIGHT_DECAY)))\n",
    "  model.add(Conv2D(128, (5, 5),activation='relu',padding='same', kernel_regularizer = regularizers.l2(L2_WEIGHT_DECAY)))\n",
    "  model.add(BatchNormalization())\n",
    "  model.add(MaxPooling2D(pool_size=(2, 2)))\n",
    "  model.add(Dropout(DROPOUT_RATE))\n",
    "\n",
    "  model.add(Conv2D(128, (5, 5),activation='relu',padding='same', kernel_regularizer = regularizers.l2(L2_WEIGHT_DECAY)))\n",
    "  model.add(Conv2D(128, (5, 5),activation='relu',padding='same', kernel_regularizer = regularizers.l2(L2_WEIGHT_DECAY)))\n",
    "  model.add(BatchNormalization())\n",
    "  model.add(MaxPooling2D(pool_size=(2, 2)))\n",
    "  model.add(Dropout(DROPOUT_RATE))\n",
    "\n",
    "  model.add(Conv2D(128, (5, 5),activation='relu',padding='same', kernel_regularizer = regularizers.l2(L2_WEIGHT_DECAY)))\n",
    "  model.add(Conv2D(128, (5, 5),activation='relu',padding='same', kernel_regularizer = regularizers.l2(L2_WEIGHT_DECAY)))\n",
    "  model.add(BatchNormalization())\n",
    "  model.add(MaxPooling2D(pool_size=(2, 2)))\n",
    "  model.add(Dropout(DROPOUT_RATE))\n",
    "\n",
    "  model.add(Conv2D(128, (3, 3),activation='relu',padding='same', kernel_regularizer = regularizers.l2(L2_WEIGHT_DECAY)))\n",
    "  model.add(Conv2D(128, (3, 3),activation='relu',padding='same', kernel_regularizer = regularizers.l2(L2_WEIGHT_DECAY)))\n",
    "  model.add(BatchNormalization())\n",
    "  model.add(MaxPooling2D(pool_size=(2, 2)))\n",
    "  model.add(Dropout(DROPOUT_RATE))\n",
    "\n",
    "  model.add(Flatten())\n",
    "  model.add(Dense(1024))\n",
    "  model.add(BatchNormalization())\n",
    "  model.add(Activation('relu'))\n",
    "  model.add(Dropout(DROPOUT_RATE))\n",
    "  model.add(Dense(NUM_OUTPUTS, activation=\"softmax\"))\n",
    "  model.add(Activation('softmax'))\n",
    "  return model\n",
    "\n",
    "def resnet_fine_tuning():\n",
    "  base_model = ResNet50(weights='imagenet', include_top=False, input_shape = (IMG_HEIGHT, IMG_WIDTH, 3))\n",
    "  x = base_model.output\n",
    "  x = GlobalAveragePooling2D()(x)\n",
    "  x = Flatten()(x)\n",
    "  x = Dense(1024, activation='relu')(x)\n",
    "  x = Dense(NUM_OUTPUTS, activation='softmax')(x)\n",
    "  model = Model(inputs=base_model.input, outputs=x)\n",
    "  return model\n",
    "\n",
    "model = simple_cnn()\n",
    "# model = resnet_fine_tuning()\n",
    "\n",
    "optimizer = Adam(lr = LEARNING_RATE, beta_1 = 0.9, beta_2 = 0.999, epsilon = 1e-7)\n",
    "model.compile(loss='categorical_crossentropy', metrics=['accuracy'], optimizer = optimizer)\n",
    "model.summary()"
   ]
  },
  {
   "cell_type": "markdown",
   "metadata": {
    "id": "wGmwc97lOQip"
   },
   "source": [
    "## Train model"
   ]
  },
  {
   "cell_type": "code",
   "execution_count": 19,
   "metadata": {
    "colab": {
     "base_uri": "https://localhost:8080/"
    },
    "id": "TnDrZaNYI0-f",
    "outputId": "e949fa2a-ec53-4fe3-a0ca-cacedbd85e20"
   },
   "outputs": [
    {
     "name": "stdout",
     "output_type": "stream",
     "text": [
      "Epoch 1/100\n",
      "738/738 [==============================] - 15s 21ms/step - loss: 1.5652 - accuracy: 0.3092 - val_loss: 1.5437 - val_accuracy: 0.3375\n",
      "Epoch 2/100\n",
      "738/738 [==============================] - 15s 20ms/step - loss: 1.4937 - accuracy: 0.3893 - val_loss: 1.4607 - val_accuracy: 0.4256\n",
      "Epoch 3/100\n",
      "738/738 [==============================] - 15s 20ms/step - loss: 1.4267 - accuracy: 0.4625 - val_loss: 1.5477 - val_accuracy: 0.3294\n",
      "Epoch 4/100\n",
      "738/738 [==============================] - 15s 20ms/step - loss: 1.3910 - accuracy: 0.4992 - val_loss: 1.4421 - val_accuracy: 0.4539\n",
      "Epoch 5/100\n",
      "738/738 [==============================] - 15s 20ms/step - loss: 1.3601 - accuracy: 0.5338 - val_loss: 1.3605 - val_accuracy: 0.5318\n",
      "Epoch 6/100\n",
      "738/738 [==============================] - 15s 20ms/step - loss: 1.3289 - accuracy: 0.5673 - val_loss: 1.5201 - val_accuracy: 0.3689\n",
      "Epoch 7/100\n",
      "738/738 [==============================] - 15s 20ms/step - loss: 1.3023 - accuracy: 0.5961 - val_loss: 1.2812 - val_accuracy: 0.6180\n",
      "Epoch 8/100\n",
      "738/738 [==============================] - 15s 21ms/step - loss: 1.2832 - accuracy: 0.6151 - val_loss: 1.2746 - val_accuracy: 0.6241\n",
      "Epoch 9/100\n",
      "738/738 [==============================] - 15s 20ms/step - loss: 1.2678 - accuracy: 0.6323 - val_loss: 1.2478 - val_accuracy: 0.6517\n",
      "Epoch 10/100\n",
      "738/738 [==============================] - 15s 21ms/step - loss: 1.2614 - accuracy: 0.6378 - val_loss: 1.2751 - val_accuracy: 0.6238\n",
      "Epoch 11/100\n",
      "738/738 [==============================] - 15s 21ms/step - loss: 1.2445 - accuracy: 0.6554 - val_loss: 1.2764 - val_accuracy: 0.6252\n",
      "Epoch 12/100\n",
      "738/738 [==============================] - 15s 21ms/step - loss: 1.2371 - accuracy: 0.6646 - val_loss: 1.3103 - val_accuracy: 0.5906\n",
      "Epoch 13/100\n",
      "738/738 [==============================] - 15s 21ms/step - loss: 1.2292 - accuracy: 0.6732 - val_loss: 1.3149 - val_accuracy: 0.5822\n",
      "Epoch 14/100\n",
      "738/738 [==============================] - 15s 21ms/step - loss: 1.2218 - accuracy: 0.6793 - val_loss: 1.2429 - val_accuracy: 0.6573\n",
      "Epoch 15/100\n",
      "738/738 [==============================] - 15s 20ms/step - loss: 1.2157 - accuracy: 0.6860 - val_loss: 1.2232 - val_accuracy: 0.6777\n",
      "Epoch 16/100\n",
      "738/738 [==============================] - 15s 21ms/step - loss: 1.2065 - accuracy: 0.6950 - val_loss: 1.2878 - val_accuracy: 0.6131\n",
      "Epoch 17/100\n",
      "738/738 [==============================] - 15s 20ms/step - loss: 1.1998 - accuracy: 0.7021 - val_loss: 1.2344 - val_accuracy: 0.6681\n",
      "Epoch 18/100\n",
      "738/738 [==============================] - 15s 20ms/step - loss: 1.1932 - accuracy: 0.7092 - val_loss: 1.2142 - val_accuracy: 0.6880\n",
      "Epoch 19/100\n",
      "738/738 [==============================] - 15s 20ms/step - loss: 1.1921 - accuracy: 0.7102 - val_loss: 1.2372 - val_accuracy: 0.6650\n",
      "Epoch 20/100\n",
      "738/738 [==============================] - 15s 21ms/step - loss: 1.1864 - accuracy: 0.7159 - val_loss: 1.2718 - val_accuracy: 0.6294\n",
      "Epoch 21/100\n",
      "738/738 [==============================] - 15s 21ms/step - loss: 1.1764 - accuracy: 0.7256 - val_loss: 1.2136 - val_accuracy: 0.6910\n",
      "Epoch 22/100\n",
      "738/738 [==============================] - 15s 20ms/step - loss: 1.1717 - accuracy: 0.7308 - val_loss: 1.2527 - val_accuracy: 0.6496\n",
      "Epoch 23/100\n",
      "738/738 [==============================] - 15s 21ms/step - loss: 1.1686 - accuracy: 0.7349 - val_loss: 1.2469 - val_accuracy: 0.6543\n",
      "Epoch 24/100\n",
      "738/738 [==============================] - 15s 21ms/step - loss: 1.1638 - accuracy: 0.7402 - val_loss: 1.2230 - val_accuracy: 0.6796\n",
      "Epoch 25/100\n",
      "738/738 [==============================] - 15s 21ms/step - loss: 1.1644 - accuracy: 0.7393 - val_loss: 1.2019 - val_accuracy: 0.7013\n",
      "Epoch 26/100\n",
      "738/738 [==============================] - 15s 21ms/step - loss: 1.1547 - accuracy: 0.7486 - val_loss: 1.2018 - val_accuracy: 0.7037\n",
      "Epoch 27/100\n",
      "738/738 [==============================] - 15s 21ms/step - loss: 1.1511 - accuracy: 0.7521 - val_loss: 1.2350 - val_accuracy: 0.6671\n",
      "Epoch 28/100\n",
      "738/738 [==============================] - 15s 21ms/step - loss: 1.1472 - accuracy: 0.7569 - val_loss: 1.2104 - val_accuracy: 0.6922\n",
      "Epoch 29/100\n",
      "738/738 [==============================] - 15s 21ms/step - loss: 1.1519 - accuracy: 0.7514 - val_loss: 1.2148 - val_accuracy: 0.6877\n",
      "Epoch 30/100\n",
      "738/738 [==============================] - 15s 20ms/step - loss: 1.1443 - accuracy: 0.7594 - val_loss: 1.2080 - val_accuracy: 0.6948\n",
      "Epoch 31/100\n",
      "738/738 [==============================] - 15s 21ms/step - loss: 1.1387 - accuracy: 0.7656 - val_loss: 1.1976 - val_accuracy: 0.7046\n",
      "Epoch 32/100\n",
      "738/738 [==============================] - 15s 20ms/step - loss: 1.1382 - accuracy: 0.7657 - val_loss: 1.2256 - val_accuracy: 0.6781\n",
      "Epoch 33/100\n",
      "738/738 [==============================] - 15s 20ms/step - loss: 1.1332 - accuracy: 0.7712 - val_loss: 1.2017 - val_accuracy: 0.7025\n",
      "Epoch 34/100\n",
      "738/738 [==============================] - 15s 20ms/step - loss: 1.1311 - accuracy: 0.7733 - val_loss: 1.1946 - val_accuracy: 0.7084\n",
      "Epoch 35/100\n",
      "738/738 [==============================] - 15s 21ms/step - loss: 1.1268 - accuracy: 0.7772 - val_loss: 1.2167 - val_accuracy: 0.6852\n",
      "Epoch 36/100\n",
      "738/738 [==============================] - 15s 21ms/step - loss: 1.1219 - accuracy: 0.7826 - val_loss: 1.1920 - val_accuracy: 0.7111\n",
      "Epoch 37/100\n",
      "738/738 [==============================] - 15s 20ms/step - loss: 1.1197 - accuracy: 0.7852 - val_loss: 1.2002 - val_accuracy: 0.7037\n",
      "Epoch 38/100\n",
      "738/738 [==============================] - 15s 21ms/step - loss: 1.1179 - accuracy: 0.7865 - val_loss: 1.1930 - val_accuracy: 0.7104\n",
      "Epoch 39/100\n",
      "738/738 [==============================] - 15s 20ms/step - loss: 1.1103 - accuracy: 0.7951 - val_loss: 1.1916 - val_accuracy: 0.7112\n",
      "Epoch 40/100\n",
      "738/738 [==============================] - 15s 21ms/step - loss: 1.1069 - accuracy: 0.7987 - val_loss: 1.1896 - val_accuracy: 0.7135\n",
      "Epoch 41/100\n",
      "738/738 [==============================] - 15s 20ms/step - loss: 1.1126 - accuracy: 0.7916 - val_loss: 1.1944 - val_accuracy: 0.7088\n",
      "Epoch 42/100\n",
      "738/738 [==============================] - 15s 21ms/step - loss: 1.1084 - accuracy: 0.7967 - val_loss: 1.2047 - val_accuracy: 0.7001\n",
      "Epoch 43/100\n",
      "738/738 [==============================] - 15s 20ms/step - loss: 1.1078 - accuracy: 0.7970 - val_loss: 1.2239 - val_accuracy: 0.6795\n",
      "Epoch 44/100\n",
      "738/738 [==============================] - 15s 21ms/step - loss: 1.1013 - accuracy: 0.8042 - val_loss: 1.1995 - val_accuracy: 0.7037\n",
      "Epoch 45/100\n",
      "738/738 [==============================] - 15s 20ms/step - loss: 1.1047 - accuracy: 0.8003 - val_loss: 1.1967 - val_accuracy: 0.7072\n",
      "Epoch 46/100\n",
      "738/738 [==============================] - 15s 20ms/step - loss: 1.0981 - accuracy: 0.8075 - val_loss: 1.2034 - val_accuracy: 0.7001\n",
      "Epoch 47/100\n",
      "738/738 [==============================] - 15s 20ms/step - loss: 1.0958 - accuracy: 0.8091 - val_loss: 1.1849 - val_accuracy: 0.7186\n",
      "Epoch 48/100\n",
      "738/738 [==============================] - 15s 20ms/step - loss: 1.0909 - accuracy: 0.8146 - val_loss: 1.1897 - val_accuracy: 0.7151\n",
      "Epoch 49/100\n",
      "738/738 [==============================] - 15s 21ms/step - loss: 1.0904 - accuracy: 0.8142 - val_loss: 1.1798 - val_accuracy: 0.7247\n",
      "Epoch 50/100\n",
      "738/738 [==============================] - 15s 21ms/step - loss: 1.0869 - accuracy: 0.8183 - val_loss: 1.1798 - val_accuracy: 0.7247\n",
      "Epoch 51/100\n",
      "738/738 [==============================] - 15s 21ms/step - loss: 1.0847 - accuracy: 0.8201 - val_loss: 1.1799 - val_accuracy: 0.7254\n",
      "Epoch 52/100\n",
      "738/738 [==============================] - 15s 20ms/step - loss: 1.0831 - accuracy: 0.8229 - val_loss: 1.1794 - val_accuracy: 0.7252\n",
      "Epoch 53/100\n",
      "738/738 [==============================] - 15s 20ms/step - loss: 1.0799 - accuracy: 0.8259 - val_loss: 1.1873 - val_accuracy: 0.7170\n",
      "Epoch 54/100\n",
      "738/738 [==============================] - 15s 20ms/step - loss: 1.0805 - accuracy: 0.8249 - val_loss: 1.1788 - val_accuracy: 0.7261\n",
      "Epoch 55/100\n",
      "738/738 [==============================] - 15s 20ms/step - loss: 1.0740 - accuracy: 0.8316 - val_loss: 1.1997 - val_accuracy: 0.7037\n",
      "Epoch 56/100\n",
      "738/738 [==============================] - 15s 20ms/step - loss: 1.0731 - accuracy: 0.8324 - val_loss: 1.1967 - val_accuracy: 0.7079\n",
      "Epoch 57/100\n"
     ]
    },
    {
     "name": "stdout",
     "output_type": "stream",
     "text": [
      "738/738 [==============================] - 15s 21ms/step - loss: 1.0739 - accuracy: 0.8319 - val_loss: 1.2015 - val_accuracy: 0.7030\n",
      "Epoch 58/100\n",
      "738/738 [==============================] - 15s 21ms/step - loss: 1.0741 - accuracy: 0.8315 - val_loss: 1.1810 - val_accuracy: 0.7243\n",
      "Epoch 59/100\n",
      "738/738 [==============================] - 15s 21ms/step - loss: 1.0715 - accuracy: 0.8346 - val_loss: 1.1716 - val_accuracy: 0.7327\n",
      "Epoch 60/100\n",
      "738/738 [==============================] - 15s 21ms/step - loss: 1.0706 - accuracy: 0.8351 - val_loss: 1.1844 - val_accuracy: 0.7203\n",
      "Epoch 61/100\n",
      "738/738 [==============================] - 15s 21ms/step - loss: 1.0678 - accuracy: 0.8380 - val_loss: 1.1802 - val_accuracy: 0.7236\n",
      "Epoch 62/100\n",
      "738/738 [==============================] - 15s 20ms/step - loss: 1.0712 - accuracy: 0.8338 - val_loss: 1.1816 - val_accuracy: 0.7233\n",
      "Epoch 63/100\n",
      "738/738 [==============================] - 15s 21ms/step - loss: 1.0690 - accuracy: 0.8377 - val_loss: 1.1801 - val_accuracy: 0.7245\n",
      "Epoch 64/100\n",
      "738/738 [==============================] - 15s 20ms/step - loss: 1.0664 - accuracy: 0.8393 - val_loss: 1.2076 - val_accuracy: 0.6978\n",
      "Epoch 65/100\n",
      "738/738 [==============================] - 15s 21ms/step - loss: 1.0638 - accuracy: 0.8422 - val_loss: 1.1835 - val_accuracy: 0.7212\n",
      "Epoch 66/100\n",
      "738/738 [==============================] - 15s 20ms/step - loss: 1.0642 - accuracy: 0.8416 - val_loss: 1.1791 - val_accuracy: 0.7261\n",
      "Epoch 67/100\n",
      "738/738 [==============================] - 15s 21ms/step - loss: 1.0638 - accuracy: 0.8424 - val_loss: 1.2013 - val_accuracy: 0.7032\n",
      "Epoch 68/100\n",
      "738/738 [==============================] - 15s 20ms/step - loss: 1.0625 - accuracy: 0.8429 - val_loss: 1.1906 - val_accuracy: 0.7133\n",
      "Epoch 69/100\n",
      "738/738 [==============================] - 15s 21ms/step - loss: 1.0574 - accuracy: 0.8482 - val_loss: 1.1808 - val_accuracy: 0.7250\n",
      "Epoch 70/100\n",
      "738/738 [==============================] - 15s 20ms/step - loss: 1.0554 - accuracy: 0.8508 - val_loss: 1.1940 - val_accuracy: 0.7107\n",
      "Epoch 71/100\n",
      "738/738 [==============================] - 15s 20ms/step - loss: 1.0539 - accuracy: 0.8519 - val_loss: 1.1804 - val_accuracy: 0.7256\n",
      "Epoch 72/100\n",
      "738/738 [==============================] - 15s 20ms/step - loss: 1.0499 - accuracy: 0.8558 - val_loss: 1.1804 - val_accuracy: 0.7243\n",
      "Epoch 73/100\n",
      "738/738 [==============================] - 15s 21ms/step - loss: 1.0507 - accuracy: 0.8556 - val_loss: 1.1877 - val_accuracy: 0.7168\n",
      "Epoch 74/100\n",
      "738/738 [==============================] - 15s 21ms/step - loss: 1.0472 - accuracy: 0.8594 - val_loss: 1.1769 - val_accuracy: 0.7275\n",
      "Epoch 75/100\n",
      "738/738 [==============================] - 15s 21ms/step - loss: 1.0475 - accuracy: 0.8588 - val_loss: 1.1878 - val_accuracy: 0.7163\n",
      "Epoch 76/100\n",
      "738/738 [==============================] - 15s 20ms/step - loss: 1.0453 - accuracy: 0.8612 - val_loss: 1.1760 - val_accuracy: 0.7289\n",
      "Epoch 77/100\n",
      "738/738 [==============================] - 15s 20ms/step - loss: 1.0448 - accuracy: 0.8614 - val_loss: 1.1775 - val_accuracy: 0.7285\n",
      "Epoch 78/100\n",
      "738/738 [==============================] - 15s 21ms/step - loss: 1.0410 - accuracy: 0.8656 - val_loss: 1.1829 - val_accuracy: 0.7217\n",
      "Epoch 79/100\n",
      "738/738 [==============================] - 15s 20ms/step - loss: 1.0446 - accuracy: 0.8620 - val_loss: 1.1815 - val_accuracy: 0.7236\n",
      "Epoch 80/100\n",
      "738/738 [==============================] - 15s 21ms/step - loss: 1.0451 - accuracy: 0.8612 - val_loss: 1.1761 - val_accuracy: 0.7296\n",
      "Epoch 81/100\n",
      "738/738 [==============================] - 15s 20ms/step - loss: 1.0433 - accuracy: 0.8635 - val_loss: 1.1864 - val_accuracy: 0.7201\n",
      "Epoch 82/100\n",
      "738/738 [==============================] - 15s 21ms/step - loss: 1.0426 - accuracy: 0.8642 - val_loss: 1.1858 - val_accuracy: 0.7191\n",
      "Epoch 83/100\n",
      "738/738 [==============================] - 15s 21ms/step - loss: 1.0412 - accuracy: 0.8653 - val_loss: 1.1796 - val_accuracy: 0.7254\n",
      "Epoch 84/100\n",
      "738/738 [==============================] - 15s 20ms/step - loss: 1.0392 - accuracy: 0.8673 - val_loss: 1.1869 - val_accuracy: 0.7182\n",
      "Epoch 85/100\n",
      "738/738 [==============================] - 15s 20ms/step - loss: 1.0397 - accuracy: 0.8662 - val_loss: 1.1865 - val_accuracy: 0.7182\n",
      "Epoch 86/100\n",
      "738/738 [==============================] - 15s 20ms/step - loss: 1.0347 - accuracy: 0.8721 - val_loss: 1.1741 - val_accuracy: 0.7299\n",
      "Epoch 87/100\n",
      "738/738 [==============================] - 15s 21ms/step - loss: 1.0336 - accuracy: 0.8731 - val_loss: 1.1808 - val_accuracy: 0.7242\n",
      "Epoch 88/100\n",
      "738/738 [==============================] - 15s 21ms/step - loss: 1.0371 - accuracy: 0.8693 - val_loss: 1.1803 - val_accuracy: 0.7249\n",
      "Epoch 89/100\n",
      "738/738 [==============================] - 15s 21ms/step - loss: 1.0327 - accuracy: 0.8741 - val_loss: 1.1815 - val_accuracy: 0.7235\n",
      "Epoch 90/100\n",
      "738/738 [==============================] - 15s 21ms/step - loss: 1.0353 - accuracy: 0.8715 - val_loss: 1.1832 - val_accuracy: 0.7219\n",
      "Epoch 91/100\n",
      "738/738 [==============================] - 15s 20ms/step - loss: 1.0351 - accuracy: 0.8722 - val_loss: 1.1750 - val_accuracy: 0.7303\n",
      "Epoch 92/100\n",
      "738/738 [==============================] - 15s 21ms/step - loss: 1.0328 - accuracy: 0.8740 - val_loss: 1.1760 - val_accuracy: 0.7287\n",
      "Epoch 93/100\n",
      "738/738 [==============================] - 15s 21ms/step - loss: 1.0313 - accuracy: 0.8755 - val_loss: 1.1906 - val_accuracy: 0.7135\n",
      "Epoch 94/100\n",
      "738/738 [==============================] - 15s 21ms/step - loss: 1.0328 - accuracy: 0.8739 - val_loss: 1.1856 - val_accuracy: 0.7203\n",
      "Epoch 95/100\n",
      "738/738 [==============================] - 15s 20ms/step - loss: 1.0301 - accuracy: 0.8766 - val_loss: 1.1780 - val_accuracy: 0.7275\n",
      "Epoch 96/100\n",
      "738/738 [==============================] - 15s 20ms/step - loss: 1.0313 - accuracy: 0.8759 - val_loss: 1.1813 - val_accuracy: 0.7238\n",
      "Epoch 97/100\n",
      "738/738 [==============================] - 15s 20ms/step - loss: 1.0282 - accuracy: 0.8788 - val_loss: 1.1748 - val_accuracy: 0.7304\n",
      "Epoch 98/100\n",
      "738/738 [==============================] - 15s 21ms/step - loss: 1.0243 - accuracy: 0.8825 - val_loss: 1.1777 - val_accuracy: 0.7284\n",
      "Epoch 99/100\n",
      "738/738 [==============================] - 15s 21ms/step - loss: 1.0301 - accuracy: 0.8770 - val_loss: 1.1735 - val_accuracy: 0.7331\n",
      "Epoch 100/100\n",
      "738/738 [==============================] - 15s 21ms/step - loss: 1.0251 - accuracy: 0.8818 - val_loss: 1.1821 - val_accuracy: 0.7236\n"
     ]
    }
   ],
   "source": [
    "# from google.colab import drive\n",
    "# drive.mount(\"/content/gdrive\", force_remount = False)\n",
    "\n",
    "# def get_drive_path():\n",
    "#   path = F\"/content/gdrive/MyDrive/Colab Notebooks/weights/\"\n",
    "#   path += \"weights_{epoch:02d}_{accuracy:.4f}_{val_accuracy:.4f}.h5\"\n",
    "#   return path\n",
    "\n",
    "def get_local_path():\n",
    "  path = os.path.join(\"weights/\", \"weights_{epoch:02d}_{accuracy:.4f}_{val_accuracy:.4f}.h5\")\n",
    "  return path\n",
    "\n",
    "# path = get_drive_path()\n",
    "path = get_local_path()\n",
    "save_model_callback = ModelCheckpoint(filepath = path)\n",
    "\n",
    "history = model.fit(\n",
    "    train_data_gen,\n",
    "    steps_per_epoch = total_train // BATCH_SIZE,\n",
    "    epochs = EPOCHS,\n",
    "    validation_data = val_data_gen,\n",
    "    validation_steps = total_val // BATCH_SIZE,\n",
    "    callbacks = [save_model_callback]\n",
    ")"
   ]
  },
  {
   "cell_type": "markdown",
   "metadata": {
    "id": "9ubmRJLrk_45"
   },
   "source": [
    "## Plot training result"
   ]
  },
  {
   "cell_type": "code",
   "execution_count": 20,
   "metadata": {
    "id": "M1aOJQnqJG_6"
   },
   "outputs": [
    {
     "data": {
      "image/png": "[encoded data removed]",
      "text/plain": [
       "<Figure size 576x576 with 2 Axes>"
      ]
     },
     "metadata": {
      "needs_background": "light"
     },
     "output_type": "display_data"
    }
   ],
   "source": [
    "acc = history.history['accuracy']\n",
    "val_acc = history.history['val_accuracy']\n",
    "\n",
    "loss = history.history['loss']\n",
    "val_loss = history.history['val_loss']\n",
    "\n",
    "epochs_range = range(EPOCHS)\n",
    "\n",
    "plt.figure(figsize=(8, 8))\n",
    "plt.subplot(1, 2, 1)\n",
    "plt.plot(epochs_range, acc, label='Training Accuracy')\n",
    "plt.plot(epochs_range, val_acc, label='Validation Accuracy')\n",
    "plt.legend(loc='lower right')\n",
    "plt.title('Training and Validation Accuracy')\n",
    "\n",
    "plt.subplot(1, 2, 2)\n",
    "plt.plot(epochs_range, loss, label='Training Loss')\n",
    "plt.plot(epochs_range, val_loss, label='Validation Loss')\n",
    "plt.legend(loc='upper right')\n",
    "plt.title('Training and Validation Loss')\n",
    "plt.show()"
   ]
  }
 ],
 "metadata": {
  "colab": {
   "machine_shape": "hm",
   "name": "SadOrHappy : facial expression classifeir",
   "provenance": []
  },
  "kernelspec": {
   "display_name": "Python 3",
   "language": "python",
   "name": "python3"
  },
  "language_info": {
   "codemirror_mode": {
    "name": "ipython",
    "version": 3
   },
   "file_extension": ".py",
   "mimetype": "text/x-python",
   "name": "python",
   "nbconvert_exporter": "python",
   "pygments_lexer": "ipython3",
   "version": "3.8.5"
  }
 },
 "nbformat": 4,
 "nbformat_minor": 1
}